{
 "cells": [
  {
   "cell_type": "markdown",
   "metadata": {},
   "source": [
    "# LISTAS"
   ]
  },
  {
   "cell_type": "code",
   "execution_count": 15,
   "metadata": {},
   "outputs": [],
   "source": [
    "# CREACION\n",
    "miLista = ['rojo','azul','amarillo','naranja','violeta','verde']"
   ]
  },
  {
   "cell_type": "code",
   "execution_count": 16,
   "metadata": {},
   "outputs": [
    {
     "name": "stdout",
     "output_type": "stream",
     "text": [
      "['rojo', 'azul', 'amarillo', 'naranja', 'violeta', 'verde']\n"
     ]
    }
   ],
   "source": [
    "# imprimir\n",
    "print(miLista)"
   ]
  },
  {
   "cell_type": "code",
   "execution_count": 17,
   "metadata": {},
   "outputs": [
    {
     "data": {
      "text/plain": [
       "list"
      ]
     },
     "execution_count": 17,
     "metadata": {},
     "output_type": "execute_result"
    }
   ],
   "source": [
    "# ver el tipo de dato\n",
    "type(miLista)"
   ]
  },
  {
   "cell_type": "code",
   "execution_count": 18,
   "metadata": {},
   "outputs": [
    {
     "name": "stdout",
     "output_type": "stream",
     "text": [
      "amarillo\n"
     ]
    }
   ],
   "source": [
    "#imprimir el tercer elementom especificando el índice\n",
    "#las listas comienzan desde cero\n",
    "print(miLista[2])\n"
   ]
  },
  {
   "cell_type": "code",
   "execution_count": 19,
   "metadata": {},
   "outputs": [
    {
     "name": "stdout",
     "output_type": "stream",
     "text": [
      "['rojo', 'azul']\n"
     ]
    }
   ],
   "source": [
    "# acceder a un rango, limite inferior se incluye,\n",
    "#  exterior de excluye\n",
    "print(miLista[0:2])\n"
   ]
  },
  {
   "cell_type": "code",
   "execution_count": 20,
   "metadata": {},
   "outputs": [
    {
     "name": "stdout",
     "output_type": "stream",
     "text": [
      "['rojo', 'azul']\n"
     ]
    }
   ],
   "source": [
    "# al no poner primer valor, python asume\n",
    "# que es un cero\n",
    "print(miLista[:2])"
   ]
  },
  {
   "cell_type": "code",
   "execution_count": 21,
   "metadata": {},
   "outputs": [
    {
     "name": "stdout",
     "output_type": "stream",
     "text": [
      "['rojo', 'azul', 'amarillo', 'naranja', 'violeta', 'verde']\n"
     ]
    }
   ],
   "source": [
    "# al no poner segundo valor, python entiende que se\n",
    "#  trata de todos los elementos a partir del primero\n",
    "print(miLista[0:])\n",
    "\n"
   ]
  },
  {
   "cell_type": "code",
   "execution_count": 22,
   "metadata": {},
   "outputs": [
    {
     "name": "stdout",
     "output_type": "stream",
     "text": [
      "['rojo', 'azul', 'amarillo', 'naranja', 'violeta', 'verde', 'blanco']\n"
     ]
    }
   ],
   "source": [
    "#agregar un elementos al final de la lista, \n",
    "# (si el elemento ya existe va a quedar duplicado)\n",
    "miLista.append('blanco')\n",
    "print(miLista)"
   ]
  },
  {
   "cell_type": "code",
   "execution_count": 23,
   "metadata": {},
   "outputs": [
    {
     "name": "stdout",
     "output_type": "stream",
     "text": [
      "['rojo', 'azul', 'amarillo', 'negro', 'naranja', 'violeta', 'verde', 'blanco']\n"
     ]
    }
   ],
   "source": [
    "#agregar elemento especificando el indice\n",
    "miLista.insert(3,'negro')\n",
    "print(miLista)"
   ]
  },
  {
   "cell_type": "code",
   "execution_count": 24,
   "metadata": {},
   "outputs": [
    {
     "name": "stdout",
     "output_type": "stream",
     "text": [
      "['rojo', 'azul', 'amarillo', 'negro', 'naranja', 'violeta', 'verde', 'blanco', 'marron', 'gris']\n"
     ]
    }
   ],
   "source": [
    "#concatenar una nueva lista a una ya creada\n",
    "miLista.extend(['marron','gris'])\n",
    "print(miLista)"
   ]
  },
  {
   "cell_type": "code",
   "execution_count": 25,
   "metadata": {},
   "outputs": [
    {
     "name": "stdout",
     "output_type": "stream",
     "text": [
      "1\n"
     ]
    }
   ],
   "source": [
    "#encontrar el indice especificando su valor\n",
    "print(miLista.index('azul'))"
   ]
  },
  {
   "cell_type": "code",
   "execution_count": 28,
   "metadata": {},
   "outputs": [
    {
     "ename": "ValueError",
     "evalue": "list.remove(x): x not in list",
     "output_type": "error",
     "traceback": [
      "\u001b[1;31m---------------------------------------------------------------------------\u001b[0m",
      "\u001b[1;31mValueError\u001b[0m                                Traceback (most recent call last)",
      "\u001b[1;32mf:\\UNIVERSIDAD\\DATA SCIENCE\\Python-Prep\\04 - Estructuras de datos\\ejemplosED.ipynb Cell 13'\u001b[0m in \u001b[0;36m<cell line: 3>\u001b[1;34m()\u001b[0m\n\u001b[0;32m      <a href='vscode-notebook-cell:/f%3A/UNIVERSIDAD/DATA%20SCIENCE/Python-Prep/04%20-%20Estructuras%20de%20datos/ejemplosED.ipynb#ch0000014?line=0'>1</a>\u001b[0m \u001b[39m#eliminiar un elemento de una lista, si el\u001b[39;00m\n\u001b[0;32m      <a href='vscode-notebook-cell:/f%3A/UNIVERSIDAD/DATA%20SCIENCE/Python-Prep/04%20-%20Estructuras%20de%20datos/ejemplosED.ipynb#ch0000014?line=1'>2</a>\u001b[0m \u001b[39m#  elemento no xiste encontes sale un error\u001b[39;00m\n\u001b[1;32m----> <a href='vscode-notebook-cell:/f%3A/UNIVERSIDAD/DATA%20SCIENCE/Python-Prep/04%20-%20Estructuras%20de%20datos/ejemplosED.ipynb#ch0000014?line=2'>3</a>\u001b[0m miLista\u001b[39m.\u001b[39;49mremove(\u001b[39m'\u001b[39;49m\u001b[39mazul\u001b[39;49m\u001b[39m'\u001b[39;49m)\n\u001b[0;32m      <a href='vscode-notebook-cell:/f%3A/UNIVERSIDAD/DATA%20SCIENCE/Python-Prep/04%20-%20Estructuras%20de%20datos/ejemplosED.ipynb#ch0000014?line=3'>4</a>\u001b[0m \u001b[39mprint\u001b[39m(miLista)\n",
      "\u001b[1;31mValueError\u001b[0m: list.remove(x): x not in list"
     ]
    }
   ],
   "source": [
    "#eliminiar un elemento de una lista, si el\n",
    "#  elemento no xiste encontes sale un error\n",
    "miLista.remove('azul')\n",
    "print(miLista)\n"
   ]
  },
  {
   "cell_type": "code",
   "execution_count": 29,
   "metadata": {},
   "outputs": [
    {
     "name": "stdout",
     "output_type": "stream",
     "text": [
      "gris\n"
     ]
    }
   ],
   "source": [
    "#extraer y recuperar el ultimo elemento de la lista\n",
    "ultimo = miLista.pop()\n",
    "print(ultimo)"
   ]
  },
  {
   "cell_type": "code",
   "execution_count": 30,
   "metadata": {},
   "outputs": [
    {
     "name": "stdout",
     "output_type": "stream",
     "text": [
      "['rojo', 'amarillo', 'negro', 'naranja', 'violeta', 'verde', 'blanco', 'marron']\n"
     ]
    }
   ],
   "source": [
    "print(miLista)"
   ]
  },
  {
   "cell_type": "code",
   "execution_count": 31,
   "metadata": {},
   "outputs": [
    {
     "name": "stdout",
     "output_type": "stream",
     "text": [
      "['a', 'b', 'c', 'a', 'b', 'c', 'a', 'b', 'c']\n"
     ]
    }
   ],
   "source": [
    "#multiplicar la lista 3 veces\n",
    "print(['a','b','c']*3)"
   ]
  },
  {
   "cell_type": "code",
   "execution_count": 33,
   "metadata": {},
   "outputs": [
    {
     "name": "stdout",
     "output_type": "stream",
     "text": [
      "[1, 2, 3, 45, 56, 87]\n"
     ]
    }
   ],
   "source": [
    "#ordenar una lista de menor a mayor\n",
    "lista = [1 ,2,56,87,3,45]\n",
    "lista.sort()\n",
    "print(lista)"
   ]
  },
  {
   "cell_type": "code",
   "execution_count": 34,
   "metadata": {},
   "outputs": [
    {
     "name": "stdout",
     "output_type": "stream",
     "text": [
      "[87, 56, 45, 3, 2, 1]\n"
     ]
    }
   ],
   "source": [
    "#ordenar de mayor a menor\n",
    "lista.sort(reverse=True)\n",
    "print(lista)"
   ]
  },
  {
   "cell_type": "markdown",
   "metadata": {},
   "source": [
    "# TUPLA\n",
    "### A diferencia de la lista, la tupla no se puede modificar una vez creada, son inmutables"
   ]
  },
  {
   "cell_type": "code",
   "execution_count": 35,
   "metadata": {},
   "outputs": [],
   "source": [
    "#convertir lista en tupla\n",
    "miTupla = tuple(miLista)"
   ]
  },
  {
   "cell_type": "code",
   "execution_count": 37,
   "metadata": {},
   "outputs": [
    {
     "name": "stdout",
     "output_type": "stream",
     "text": [
      "('rojo', 'amarillo', 'negro', 'naranja', 'violeta', 'verde', 'blanco', 'marron')\n"
     ]
    }
   ],
   "source": [
    "#imprimir la tupla\n",
    "print(miTupla)"
   ]
  },
  {
   "cell_type": "code",
   "execution_count": 38,
   "metadata": {},
   "outputs": [
    {
     "name": "stdout",
     "output_type": "stream",
     "text": [
      "amarillo\n"
     ]
    }
   ],
   "source": [
    "#imprimir el indice 1 de la tupla\n",
    "print(miTupla[1])"
   ]
  },
  {
   "cell_type": "code",
   "execution_count": 39,
   "metadata": {},
   "outputs": [
    {
     "data": {
      "text/plain": [
       "True"
      ]
     },
     "execution_count": 39,
     "metadata": {},
     "output_type": "execute_result"
    }
   ],
   "source": [
    "# evaluar si un elemento esta contenido en la tupla, \n",
    "# devuelve un valor booleano\n",
    "'rojo' in miTupla"
   ]
  },
  {
   "cell_type": "code",
   "execution_count": 40,
   "metadata": {},
   "outputs": [
    {
     "data": {
      "text/plain": [
       "1"
      ]
     },
     "execution_count": 40,
     "metadata": {},
     "output_type": "execute_result"
    }
   ],
   "source": [
    "#evaluar las veces que esta contenido un valor dentro de la tupla\n",
    "miTupla.count('rojo')"
   ]
  },
  {
   "cell_type": "code",
   "execution_count": 41,
   "metadata": {},
   "outputs": [
    {
     "name": "stdout",
     "output_type": "stream",
     "text": [
      "blanco\n"
     ]
    }
   ],
   "source": [
    "#tupla con un solo elemento\n",
    "tuplaUnitaria = ('blanco')\n",
    "print(tuplaUnitaria)"
   ]
  },
  {
   "cell_type": "code",
   "execution_count": 42,
   "metadata": {},
   "outputs": [
    {
     "name": "stdout",
     "output_type": "stream",
     "text": [
      "('gaspar', 5, 8, 1999)\n"
     ]
    }
   ],
   "source": [
    "#empaquetado con tupla, tupla sin paréntesis\n",
    "miTupla2 = 'gaspar',5,8,1999\n",
    "print(miTupla2)"
   ]
  },
  {
   "cell_type": "code",
   "execution_count": 51,
   "metadata": {},
   "outputs": [
    {
     "name": "stdout",
     "output_type": "stream",
     "text": [
      "Nombre: gaspar Dia:  5 mes:  8 año:  1999\n"
     ]
    }
   ],
   "source": [
    "#desempaquetado de tupla se guardan los valores\n",
    "#  en orden de las varia nombre, dia,mes año\n",
    "mi_tupla = 'gaspar',5,8,1999\n",
    "nombre, dia,mes, año = mi_tupla\n",
    "print(\"Nombre:\",nombre,\"Dia: \",dia,\"mes: \",mes,\"año: \",año)"
   ]
  },
  {
   "cell_type": "code",
   "execution_count": 53,
   "metadata": {},
   "outputs": [
    {
     "name": "stdout",
     "output_type": "stream",
     "text": [
      "['rojo', 'amarillo', 'negro', 'naranja', 'violeta', 'verde', 'blanco', 'marron']\n"
     ]
    }
   ],
   "source": [
    "#convertir una tupla en una lista\n",
    "miLista2 = list(mi_tupla)\n",
    "print(miLista)"
   ]
  }
 ],
 "metadata": {
  "interpreter": {
   "hash": "e2e6d61c9bb4df042e62d78aa8d2349be3bf89b182edee59162cd7bbe665dac7"
  },
  "kernelspec": {
   "display_name": "Python 3.10.4 64-bit",
   "language": "python",
   "name": "python3"
  },
  "language_info": {
   "codemirror_mode": {
    "name": "ipython",
    "version": 3
   },
   "file_extension": ".py",
   "mimetype": "text/x-python",
   "name": "python",
   "nbconvert_exporter": "python",
   "pygments_lexer": "ipython3",
   "version": "3.10.4"
  },
  "orig_nbformat": 4
 },
 "nbformat": 4,
 "nbformat_minor": 2
}
