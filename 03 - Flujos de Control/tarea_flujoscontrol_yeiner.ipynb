{
 "cells": [
  {
   "cell_type": "markdown",
   "metadata": {},
   "source": [
    "# TAREAS FLUJOS DE CONTROL YEINER\n",
    "\n",
    "\n",
    "1) Crear una variable que contenga un elemento del conjunto de números enteros y luego imprimir por pantalla si es mayor o menor a cero\n"
   ]
  },
  {
   "cell_type": "code",
   "execution_count": 2,
   "metadata": {},
   "outputs": [
    {
     "name": "stdout",
     "output_type": "stream",
     "text": [
      "El numero  -5  es negativo\n"
     ]
    }
   ],
   "source": [
    "numero = -5\n",
    "if (numero > 0):\n",
    "    print(\"El numero \", numero, \" es positivo\")\n",
    "\n",
    "elif (numero < 0):\n",
    "    print(\"El numero \", numero, \" es negativo\")\n",
    "else:\n",
    "    print(\"El numero es igual a cero \")"
   ]
  },
  {
   "cell_type": "markdown",
   "metadata": {},
   "source": [
    "2) Crear dos variables y un condicional que informe si son del mismo tipo de dato"
   ]
  },
  {
   "cell_type": "code",
   "execution_count": 7,
   "metadata": {},
   "outputs": [
    {
     "name": "stdout",
     "output_type": "stream",
     "text": [
      "Las variables son de diferente tipo de dato\n"
     ]
    }
   ],
   "source": [
    "var1 = 6\n",
    "var2 = \"12.5\"\n",
    "\n",
    "if (type(var1) == type(var2)):\n",
    "    print(\"Las variables son del mismo tipo de dato\")\n",
    "else:\n",
    "    print(\"Las variables son de diferente tipo de dato\")"
   ]
  },
  {
   "cell_type": "markdown",
   "metadata": {},
   "source": [
    "3) Para los valores enteros del 1 al 20, imprimir por pantalla si es par o impar"
   ]
  },
  {
   "cell_type": "code",
   "execution_count": 15,
   "metadata": {},
   "outputs": [
    {
     "name": "stdout",
     "output_type": "stream",
     "text": [
      "El numero  1  Es impar\n",
      "El numero  2  Es par\n",
      "El numero  3  Es impar\n",
      "El numero  4  Es par\n",
      "El numero  5  Es impar\n",
      "El numero  6  Es par\n",
      "El numero  7  Es impar\n",
      "El numero  8  Es par\n",
      "El numero  9  Es impar\n",
      "El numero  10  Es par\n",
      "El numero  11  Es impar\n",
      "El numero  12  Es par\n",
      "El numero  13  Es impar\n",
      "El numero  14  Es par\n",
      "El numero  15  Es impar\n",
      "El numero  16  Es par\n",
      "El numero  17  Es impar\n",
      "El numero  18  Es par\n",
      "El numero  19  Es impar\n",
      "El numero  20  Es par\n"
     ]
    }
   ],
   "source": [
    "for num in range(1,21):\n",
    "    if (num%2 == 0):\n",
    "        print(\"El numero \",num,\" Es par\")\n",
    "    else:\n",
    "        print(\"El numero \",num,\" Es impar\"\"\")"
   ]
  },
  {
   "cell_type": "markdown",
   "metadata": {},
   "source": [
    "4) En un ciclo for mostrar para los valores entre 0 y 5 el resultado de elevarlo a la potencia igual a 3"
   ]
  },
  {
   "cell_type": "code",
   "execution_count": 10,
   "metadata": {},
   "outputs": [
    {
     "name": "stdout",
     "output_type": "stream",
     "text": [
      " 0 ^3 =  0\n",
      " 1 ^3 =  1\n",
      " 2 ^3 =  8\n",
      " 3 ^3 =  27\n",
      " 4 ^3 =  64\n",
      " 5 ^3 =  125\n"
     ]
    }
   ],
   "source": [
    "for pot in range(6):\n",
    "    print(\"\",pot,\"^3 = \",pot**3)\n"
   ]
  },
  {
   "cell_type": "markdown",
   "metadata": {},
   "source": [
    "5) Crear una variable que contenga un número entero y realizar un ciclo for la misma cantidad de ciclos"
   ]
  },
  {
   "cell_type": "code",
   "execution_count": 14,
   "metadata": {},
   "outputs": [
    {
     "name": "stdout",
     "output_type": "stream",
     "text": [
      "ciclo  0\n",
      "ciclo  1\n",
      "ciclo  2\n",
      "ciclo  3\n",
      "ciclo  4\n",
      "ciclo  5\n",
      "ciclo  6\n",
      "ciclo  7\n",
      "ciclo  8\n",
      "ciclo  9\n"
     ]
    }
   ],
   "source": [
    "ciclos = 10 \n",
    "for n in range(0,ciclos):\n",
    "    print(\"ciclo \",n)"
   ]
  },
  {
   "cell_type": "markdown",
   "metadata": {},
   "source": [
    "6) Utilizar un ciclo while para realizar el factoreo de un número guardado en una variable, sólo si la variable contiene un número entero mayor a 0"
   ]
  },
  {
   "cell_type": "code",
   "execution_count": 39,
   "metadata": {},
   "outputs": [
    {
     "name": "stdout",
     "output_type": "stream",
     "text": [
      " 8 ! =   40320\n"
     ]
    }
   ],
   "source": [
    "numFact = 8\n",
    "numero = numFact\n",
    "n = numFact\n",
    "if (numFact > 0):\n",
    "    if (type(numFact) == int):\n",
    "\n",
    "        \n",
    "        while (n >= 2):\n",
    "            n=n-1\n",
    "            numFact= numFact * n\n",
    "    \n",
    "        print(\"\",numero,\"! = \",\"\",numFact)\n",
    "\n",
    "    else:\n",
    "        print(\"El numer no es entero\")\n",
    "\n",
    "else:\n",
    "    print(\"El numero no es postivo\")\n",
    "    "
   ]
  },
  {
   "cell_type": "markdown",
   "metadata": {},
   "source": [
    "7) Crear un FOR dentro de un WHILE"
   ]
  },
  {
   "cell_type": "code",
   "execution_count": 51,
   "metadata": {},
   "outputs": [
    {
     "name": "stdout",
     "output_type": "stream",
     "text": [
      "While:  3  For:  0\n",
      "While:  3  For:  1\n",
      "While:  3  For:  2\n",
      "While:  3  For:  3\n",
      "While:  3  For:  4\n",
      "While:  3  For:  5\n",
      "While:  2  For:  0\n",
      "While:  2  For:  1\n",
      "While:  2  For:  2\n",
      "While:  2  For:  3\n",
      "While:  2  For:  4\n",
      "While:  2  For:  5\n",
      "While:  1  For:  0\n",
      "While:  1  For:  1\n",
      "While:  1  For:  2\n",
      "While:  1  For:  3\n",
      "While:  1  For:  4\n",
      "While:  1  For:  5\n"
     ]
    }
   ],
   "source": [
    "w = 3\n",
    "while (w > 0):\n",
    "    \n",
    "    for f in range(6):\n",
    "        print(\"While: \",w,\" For: \",f)\n",
    "    w=w-1\n",
    "    "
   ]
  }
 ],
 "metadata": {
  "interpreter": {
   "hash": "e2e6d61c9bb4df042e62d78aa8d2349be3bf89b182edee59162cd7bbe665dac7"
  },
  "kernelspec": {
   "display_name": "Python 3.10.4 64-bit",
   "language": "python",
   "name": "python3"
  },
  "language_info": {
   "codemirror_mode": {
    "name": "ipython",
    "version": 3
   },
   "file_extension": ".py",
   "mimetype": "text/x-python",
   "name": "python",
   "nbconvert_exporter": "python",
   "pygments_lexer": "ipython3",
   "version": "3.10.4"
  },
  "orig_nbformat": 4
 },
 "nbformat": 4,
 "nbformat_minor": 2
}
