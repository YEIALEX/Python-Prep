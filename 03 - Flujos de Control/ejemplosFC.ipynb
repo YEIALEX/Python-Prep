{
 "cells": [
  {
   "cell_type": "markdown",
   "metadata": {},
   "source": [
    "# condicionales"
   ]
  },
  {
   "cell_type": "code",
   "execution_count": 5,
   "metadata": {},
   "outputs": [
    {
     "name": "stdout",
     "output_type": "stream",
     "text": [
      "El numero es negativo\n"
     ]
    }
   ],
   "source": [
    "valor = -5\n",
    "if (valor < 0):\n",
    "    print(\"El numero es negativo\")\n",
    "elif (valor > 0 ):\n",
    "    print(\"el número es positivo\")\n",
    "else:\n",
    "    print(\"el numero es igual a cero\")"
   ]
  },
  {
   "cell_type": "markdown",
   "metadata": {},
   "source": [
    "# ciclos for"
   ]
  },
  {
   "cell_type": "code",
   "execution_count": 7,
   "metadata": {},
   "outputs": [
    {
     "name": "stdout",
     "output_type": "stream",
     "text": [
      "estamos en la iteración:  1\n",
      "estamos en la iteración:  2\n",
      "estamos en la iteración:  3\n",
      "estamos en la iteración:  4\n",
      "estamos en la iteración:  5\n",
      "estamos en la iteración:  6\n",
      "estamos en la iteración:  7\n",
      "estamos en la iteración:  8\n",
      "estamos en la iteración:  9\n"
     ]
    }
   ],
   "source": [
    "for n in range(1,10):\n",
    "    print(\"estamos en la iteración: \",n)\n",
    "\n"
   ]
  },
  {
   "cell_type": "markdown",
   "metadata": {},
   "source": [
    "# ciclos while"
   ]
  },
  {
   "cell_type": "code",
   "execution_count": 1,
   "metadata": {},
   "outputs": [
    {
     "name": "stdout",
     "output_type": "stream",
     "text": [
      "el valor de n es:  1\n",
      "el valor de n es:  2\n",
      "el valor de n es:  3\n",
      "el valor de n es:  4\n",
      "el valor de n es:  5\n",
      "el valor de n es:  6\n",
      "el valor de n es:  7\n",
      "el valor de n es:  8\n",
      "el valor de n es:  9\n",
      "el valor de n es:  10\n",
      "el valor de n es:  11\n",
      "el valor de n es:  12\n",
      "el valor de n es:  13\n",
      "el valor de n es:  14\n",
      "el valor de n es:  15\n",
      "el valor de n es:  16\n",
      "el valor de n es:  17\n",
      "el valor de n es:  18\n",
      "el valor de n es:  19\n"
     ]
    }
   ],
   "source": [
    "n=1\n",
    "while (n < 20):\n",
    "    print(\"el valor de n es: \",n)\n",
    "    n = n+1"
   ]
  },
  {
   "cell_type": "markdown",
   "metadata": {},
   "source": [
    "# sentencia break\n",
    "##### permite terminar la ejecución del bucle while/for una vez se encuentre con el comando"
   ]
  },
  {
   "cell_type": "code",
   "execution_count": 3,
   "metadata": {},
   "outputs": [
    {
     "name": "stdout",
     "output_type": "stream",
     "text": [
      "0\n"
     ]
    }
   ],
   "source": [
    "for i in range(5):\n",
    "    print(i)\n",
    "    break\n",
    "\n",
    "# muestra cero porque en la primera iteracion \n",
    "# se encuentra con el comando BREAK\n",
    "\n"
   ]
  },
  {
   "cell_type": "code",
   "execution_count": 6,
   "metadata": {},
   "outputs": [
    {
     "name": "stdout",
     "output_type": "stream",
     "text": [
      "se encontró la letra:  o\n"
     ]
    }
   ],
   "source": [
    "cadena = 'Python'\n",
    "for letra in cadena:\n",
    "    if (letra == 'o'):\n",
    "        print(\"se encontró la letra: \",letra)\n",
    "        break"
   ]
  },
  {
   "cell_type": "code",
   "execution_count": 8,
   "metadata": {},
   "outputs": [
    {
     "name": "stdout",
     "output_type": "stream",
     "text": [
      "5\n",
      "4\n",
      "3\n",
      "2\n",
      "1\n",
      "0\n",
      "fin del bucle\n"
     ]
    }
   ],
   "source": [
    "x=5\n",
    "while (True):\n",
    "    print(x)\n",
    "    if (x ==0):\n",
    "        break\n",
    "    x=x-1\n",
    "\n",
    "print(\"fin del bucle\")"
   ]
  },
  {
   "cell_type": "markdown",
   "metadata": {},
   "source": [
    "# sentencia continue\n",
    "##### se salta todo el codigo restante en la iteración actual, y vuelve al principio en caso de que aún queden iteraciones por completar. Permite modificar al ciclo for y While"
   ]
  },
  {
   "cell_type": "code",
   "execution_count": 1,
   "metadata": {},
   "outputs": [
    {
     "name": "stdout",
     "output_type": "stream",
     "text": [
      "P\n",
      "y\n",
      "t\n",
      "h\n",
      "n\n"
     ]
    }
   ],
   "source": [
    "cadena = 'Python'\n",
    "for letra in cadena:\n",
    "    if (letra == 'o'):\n",
    "        continue\n",
    "    print(letra)"
   ]
  }
 ],
 "metadata": {
  "interpreter": {
   "hash": "e2e6d61c9bb4df042e62d78aa8d2349be3bf89b182edee59162cd7bbe665dac7"
  },
  "kernelspec": {
   "display_name": "Python 3.10.4 64-bit",
   "language": "python",
   "name": "python3"
  },
  "language_info": {
   "codemirror_mode": {
    "name": "ipython",
    "version": 3
   },
   "file_extension": ".py",
   "mimetype": "text/x-python",
   "name": "python",
   "nbconvert_exporter": "python",
   "pygments_lexer": "ipython3",
   "version": "3.10.4"
  },
  "orig_nbformat": 4
 },
 "nbformat": 4,
 "nbformat_minor": 2
}
